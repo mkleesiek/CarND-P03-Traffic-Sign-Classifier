{
 "cells": [
  {
   "cell_type": "markdown",
   "metadata": {},
   "source": [
    "# Self-Driving Car Engineer Nanodegree\n",
    "\n",
    "## Deep Learning\n",
    "\n",
    "## Project: Build a Traffic Sign Recognition Classifier\n",
    "\n",
    "In this notebook, a template is provided for you to implement your functionality in stages, which is required to successfully complete this project. If additional code is required that cannot be included in the notebook, be sure that the Python code is successfully imported and included in your submission if necessary. \n",
    "\n",
    "> **Note**: Once you have completed all of the code implementations, you need to finalize your work by exporting the iPython Notebook as an HTML document. Before exporting the notebook to html, all of the code cells need to have been run so that reviewers can see the final implementation and output. You can then export the notebook by using the menu above and navigating to  \\n\",\n",
    "    \"**File -> Download as -> HTML (.html)**. Include the finished document along with this notebook as your submission. \n",
    "\n",
    "In addition to implementing code, there is a writeup to complete. The writeup should be completed in a separate file, which can be either a markdown file or a pdf document. There is a [write up template](https://github.com/udacity/CarND-Traffic-Sign-Classifier-Project/blob/master/writeup_template.md) that can be used to guide the writing process. Completing the code template and writeup template will cover all of the [rubric points](https://review.udacity.com/#!/rubrics/481/view) for this project.\n",
    "\n",
    "The [rubric](https://review.udacity.com/#!/rubrics/481/view) contains \"Stand Out Suggestions\" for enhancing the project beyond the minimum requirements. The stand out suggestions are optional. If you decide to pursue the \"stand out suggestions\", you can include the code in this Ipython notebook and also discuss the results in the writeup file.\n",
    "\n",
    "\n",
    ">**Note:** Code and Markdown cells can be executed using the **Shift + Enter** keyboard shortcut. In addition, Markdown cells can be edited by typically double-clicking the cell to enter edit mode."
   ]
  },
  {
   "cell_type": "markdown",
   "metadata": {},
   "source": [
    "---\n",
    "## Step 0: Load The Data"
   ]
  },
  {
   "cell_type": "code",
   "execution_count": 174,
   "outputs": [],
   "source": [
    "%%capture\n",
    "\n",
    "# Imports\n",
    "import pickle\n",
    "import os\n",
    "import math\n",
    "import urllib.request\n",
    "from zipfile import ZipFile\n",
    "from io import BytesIO\n",
    "\n",
    "import numpy as np\n",
    "import pandas as pd\n",
    "\n",
    "import skimage as ski\n",
    "import skimage.color\n",
    "import skimage.transform\n",
    "\n",
    "import matplotlib.pyplot as plt\n",
    "from matplotlib.patches import Rectangle\n",
    "\n",
    "import tensorflow as tf\n",
    "\n",
    "import sklearn as skl\n",
    "import sklearn.utils\n",
    "\n",
    "# Visualizations will be shown in the notebook.\n",
    "%matplotlib inline"
   ],
   "metadata": {
    "collapsed": false,
    "pycharm": {
     "name": "#%%\n"
    }
   }
  },
  {
   "cell_type": "code",
   "execution_count": 175,
   "outputs": [],
   "source": [
    "def region_of_interest(img, original_size, original_roi):\n",
    "    return [\n",
    "        original_roi[0] / original_size[0] * img.shape[0],\n",
    "        original_roi[1] / original_size[1] * img.shape[1],\n",
    "        original_roi[2] / original_size[0] * img.shape[0],\n",
    "        original_roi[3] / original_size[1] * img.shape[1],\n",
    "    ]\n",
    "\n",
    "def pad(img, shape):\n",
    "    shape = np.max([np.shape(img), shape], axis=0)\n",
    "    out = np.full(shape, np.nanmean(img))\n",
    "    out[tuple(slice(0, d) for d in np.shape(img))] = img\n",
    "    return out\n",
    "\n",
    "def load_from_pickle(file):\n",
    "    data = pickle.load(file)\n",
    "    X, y = data['features'], data['labels']\n",
    "\n",
    "    assert(len(X) == len(y))\n",
    "\n",
    "    if 'coords' in data:\n",
    "        roi = np.zeros_like(data['coords'], dtype=np.float)\n",
    "        for i in range(len(roi)):\n",
    "            roi[i] = region_of_interest(data['features'][i], data['sizes'][i], data['coords'][i])\n",
    "    else:\n",
    "        roi = []\n",
    "\n",
    "    return X, y, roi"
   ],
   "metadata": {
    "collapsed": false,
    "pycharm": {
     "name": "#%%\n"
    }
   }
  },
  {
   "cell_type": "code",
   "execution_count": 176,
   "metadata": {},
   "outputs": [
    {
     "name": "stdout",
     "output_type": "stream",
     "text": [
      "Data successfully loaded.\n"
     ]
    }
   ],
   "source": [
    "# Load pickled data\n",
    "\n",
    "DATA_DIR = 'data'\n",
    "ARCHIVE_URL = 'https://s3-us-west-1.amazonaws.com/udacity-selfdrivingcar/traffic-signs-data.zip'\n",
    "\n",
    "# Repository location of the saved training and testing data\n",
    "training_file = DATA_DIR + '/train.p'\n",
    "validation_file = DATA_DIR + '/valid.p'\n",
    "testing_file = DATA_DIR + '/test.p'\n",
    "\n",
    "if any(not os.path.exists(file) for file in (training_file, validation_file, testing_file)):\n",
    "    os.makedirs(DATA_DIR)\n",
    "\n",
    "    url = urllib.request.urlopen(ARCHIVE_URL)\n",
    "\n",
    "    with ZipFile(BytesIO(url.read())) as my_zip_file:\n",
    "        my_zip_file.extractall(DATA_DIR)\n",
    "\n",
    "with open(training_file, mode='rb') as f:\n",
    "    X_train, y_train, roi_train = load_from_pickle(f)\n",
    "with open(validation_file, mode='rb') as f:\n",
    "    X_valid, y_valid, roi_valid = load_from_pickle(f)\n",
    "with open(testing_file, mode='rb') as f:\n",
    "    X_test, y_test, roi_test = load_from_pickle(f)\n",
    "\n",
    "print(\"Data successfully loaded.\")"
   ]
  },
  {
   "cell_type": "markdown",
   "metadata": {},
   "source": [
    "---\n",
    "\n",
    "## Step 1: Dataset Summary & Exploration\n",
    "\n",
    "The pickled data is a dictionary with 4 key/value pairs:\n",
    "\n",
    "- `'features'` is a 4D array containing raw pixel data of the traffic sign images, (num examples, width, height, channels).\n",
    "- `'labels'` is a 1D array containing the label/class id of the traffic sign. The file `signnames.csv` contains id -> name mappings for each id.\n",
    "- `'sizes'` is a list containing tuples, (width, height) representing the original width and height the image.\n",
    "- `'coords'` is a list containing tuples, (x1, y1, x2, y2) representing coordinates of a bounding box around the sign in the image. **THESE COORDINATES ASSUME THE ORIGINAL IMAGE. THE PICKLED DATA CONTAINS RESIZED VERSIONS (32 by 32) OF THESE IMAGES**\n",
    "\n",
    "Complete the basic data summary below. Use python, numpy and/or pandas methods to calculate the data summary rather than hard coding the results. For example, the [pandas shape method](http://pandas.pydata.org/pandas-docs/stable/generated/pandas.DataFrame.shape.html) might be useful for calculating some of the summary results. "
   ]
  },
  {
   "cell_type": "markdown",
   "metadata": {},
   "source": [
    "### Summary and visualization of the dataset"
   ]
  },
  {
   "cell_type": "code",
   "execution_count": null,
   "metadata": {
    "pycharm": {
     "is_executing": true
    }
   },
   "outputs": [
    {
     "name": "stdout",
     "output_type": "stream",
     "text": [
      "Number of training examples = 34799\n",
      "Number of validation examples = 34799\n",
      "Number of testing examples = 12630\n",
      "Image data shape = (32, 32, 3)\n",
      "Number of classes = 43\n"
     ]
    }
   ],
   "source": [
    "def summarize_dataset(train=([],[],[]), valid=([],[],[]), test=([],[],[])):\n",
    "    (X_train, y_train, roi_train) = train\n",
    "    (X_valid, y_valid, roi_valid) = valid\n",
    "    (X_test, y_test, roi_test) = test\n",
    "\n",
    "    # Assess unique classes and distribution of the training dataset using NumPy\n",
    "    classes, classes_count = np.unique(y_test, return_counts=True)\n",
    "\n",
    "    # Number of training examples\n",
    "    n_train = len(y_train)\n",
    "    # Number of validation examples\n",
    "    n_validation = len(y_valid)\n",
    "    # Number of testing examples.\n",
    "    n_test = len(y_test)\n",
    "    # What's the shape of an traffic sign image?\n",
    "    image_shape = X_test.shape[1:]\n",
    "    # How many unique classes/labels there are in the dataset.\n",
    "    n_classes = len(classes)\n",
    "\n",
    "    # Print basic summary\n",
    "    print(\"Number of training examples =\", n_train)\n",
    "    print(\"Number of validation examples =\", n_train)\n",
    "    print(\"Number of testing examples =\", n_test)\n",
    "    print(\"Image data shape =\", image_shape)\n",
    "    print(\"Number of classes =\", n_classes)\n",
    "\n",
    "    # Plot a histogram, showing the distribution of samples across classes using Pandas\n",
    "    SIGNNAMES_FILE = 'signnames.csv'\n",
    "    classes_df = pd.read_csv(SIGNNAMES_FILE, index_col=0)\n",
    "    classes_df['Training'] = pd.Series(y_train).value_counts().sort_index()\n",
    "    classes_df['Validation'] = pd.Series(y_valid).value_counts().sort_index()\n",
    "    classes_df['Testing']  = pd.Series(y_test) .value_counts().sort_index()\n",
    "    classes_df.plot(kind='bar', stacked=True, figsize=(15,5))\n",
    "\n",
    "\n",
    "    # create figure (fig), and array of axes (ax)\n",
    "    ncols = 5\n",
    "    nrows = (n_classes + ncols - 1) // ncols\n",
    "    fig, ax = plt.subplots(nrows=nrows, ncols=ncols, figsize=(15,15), squeeze=True)\n",
    "\n",
    "    # plot simple raster image on each sub-plot\n",
    "    for i, axi in enumerate(ax.flat):\n",
    "        # i runs from 0 to (nrows*ncols-1)\n",
    "        if i >= n_classes:\n",
    "            fig.delaxes(axi)\n",
    "            continue\n",
    "\n",
    "        cls_id = classes_df.index[i]\n",
    "        cls_title = classes_df.iloc[:,0][i]\n",
    "        cls_count = classes_df.iloc[:,3][i]\n",
    "\n",
    "        indices = np.where(y_test==cls_id)[0]\n",
    "        sel_index = np.random.choice(indices)\n",
    "        img = X_test[sel_index]\n",
    "        axi.imshow(img)\n",
    "        axi.set_title(\"{:02d}: {:20.20s} [{}]\".format(cls_id, cls_title, cls_count))\n",
    "\n",
    "        if len(roi_test) > 0:\n",
    "            roi = roi_test[sel_index]\n",
    "            axi.add_patch(Rectangle((roi[0],roi[1]),roi[2]-roi[0],roi[3]-roi[1],linewidth=1,edgecolor='r',facecolor='none'))\n",
    "\n",
    "    # # one can access the axes by ax[row_id][col_id]\n",
    "    # # do additional plotting on ax[row_id][col_id] of your choice\n",
    "    # ax[0][2].plot(xs, 3*ys, color='red', linewidth=3)\n",
    "    # ax[4][3].plot(ys**2, xs, color='green', linewidth=3)\n",
    "\n",
    "    plt.tight_layout(pad=1.08)\n",
    "    plt.show()\n",
    "\n",
    "    return classes\n",
    "\n",
    "\n",
    "classes = summarize_dataset(\n",
    "    (X_train, y_train, roi_train),\n",
    "    (X_valid, y_valid, roi_valid),\n",
    "    (X_test, y_test, roi_test)\n",
    ")\n",
    "n_classes = len(classes)"
   ]
  },
  {
   "cell_type": "markdown",
   "metadata": {},
   "source": [
    "----\n",
    "\n",
    "## Step 2: Design and Test a Model Architecture\n",
    "\n",
    "Design and implement a deep learning model that learns to recognize traffic signs. Train and test your model on the [German Traffic Sign Dataset](http://benchmark.ini.rub.de/?section=gtsrb&subsection=dataset).\n",
    "\n",
    "The LeNet-5 implementation shown in the [classroom](https://classroom.udacity.com/nanodegrees/nd013/parts/fbf77062-5703-404e-b60c-95b78b2f3f9e/modules/6df7ae49-c61c-4bb2-a23e-6527e69209ec/lessons/601ae704-1035-4287-8b11-e2c2716217ad/concepts/d4aca031-508f-4e0b-b493-e7b706120f81) at the end of the CNN lesson is a solid starting point. You'll have to change the number of classes and possibly the preprocessing, but aside from that it's plug and play! \n",
    "\n",
    "With the LeNet-5 solution from the lecture, you should expect a validation set accuracy of about 0.89. To meet specifications, the validation set accuracy will need to be at least 0.93. It is possible to get an even higher accuracy, but 0.93 is the minimum for a successful project submission. \n",
    "\n",
    "There are various aspects to consider when thinking about this problem:\n",
    "\n",
    "- Neural network architecture (is the network over or underfitting?)\n",
    "- Play around preprocessing techniques (normalization, rgb to grayscale, etc)\n",
    "- Number of examples per label (some have more than others).\n",
    "- Generate fake data.\n",
    "\n",
    "Here is an example of a [published baseline model on this problem](http://yann.lecun.com/exdb/publis/pdf/sermanet-ijcnn-11.pdf). It's not required to be familiar with the approach used in the paper but, it's good practice to try to read papers like these."
   ]
  },
  {
   "cell_type": "markdown",
   "metadata": {},
   "source": [
    "### Pre-process the Data Set (normalization, grayscale, etc.)"
   ]
  },
  {
   "cell_type": "markdown",
   "metadata": {},
   "source": [
    "Minimally, the image data should be normalized so that the data has mean zero and equal variance. For image data, `(pixel - 128)/ 128` is a quick way to approximately normalize the data and can be used in this project. \n",
    "\n",
    "Other pre-processing steps are optional. You can try different techniques to see if it improves performance. \n",
    "\n",
    "Use the code cell (or multiple code cells, if necessary) to implement the first step of your project."
   ]
  },
  {
   "cell_type": "code",
   "execution_count": null,
   "metadata": {
    "pycharm": {
     "is_executing": true
    }
   },
   "outputs": [],
   "source": [
    "### Preprocess the data here. It is required to normalize the data. Other preprocessing steps could include \n",
    "### converting to grayscale, etc.\n",
    "### Feel free to use as many code cells as needed.\n",
    "\n",
    "def preprocess_images(dataset, dataset_roi=None, size=(32,32)):\n",
    "    # Convert to grayscale\n",
    "    if dataset.shape[-1] == 3:\n",
    "        dataset = ski.color.rgb2gray(dataset) * 255\n",
    "\n",
    "\n",
    "    if not dataset_roi is None:\n",
    "        for i in range(min(len(dataset), len(dataset_roi))):\n",
    "\n",
    "            # plt.figure()\n",
    "            # plt.imshow(dataset[i])\n",
    "            # plt.gca().add_patch(Rectangle((dataset_roi[i][0],dataset_roi[i][1]),dataset_roi[i][2]-dataset_roi[i][0],dataset_roi[i][3]-dataset_roi[i][1],linewidth=1,edgecolor='r',facecolor='none'))\n",
    "            # print(dataset_roi[i])\n",
    "\n",
    "            x1 = max(math.floor(dataset_roi[i][0])-1, 0)\n",
    "            x2 = min(math.ceil(dataset_roi[i][2])+2, size[0])\n",
    "            y1 = max(math.floor(dataset_roi[i][1]-1), 0)\n",
    "            y2 = min(math.ceil(dataset_roi[i][3])+2, size[1])\n",
    "\n",
    "            cropped = dataset[i,y1:y2,x1:x2]\n",
    "\n",
    "            # plt.figure()\n",
    "            # plt.imshow(cropped)\n",
    "\n",
    "            padded = pad(cropped, (max(cropped.shape),max(cropped.shape)))\n",
    "\n",
    "            # print(x1,y1,x2,y2)\n",
    "            # plt.figure()\n",
    "            # plt.imshow(padded)\n",
    "\n",
    "            resized = ski.transform.resize(padded, (size[0],size[1]), anti_aliasing=True)\n",
    "            dataset[i] = resized\n",
    "\n",
    "            # plt.figure()\n",
    "            # plt.imshow(resized)\n",
    "\n",
    "\n",
    "    # Reshape for tensor input\n",
    "    dataset = dataset.reshape((-1, 32, 32, 1))\n",
    "\n",
    "    # Normalize image data\n",
    "    dataset = (dataset - 128) / 128\n",
    "\n",
    "    return dataset\n",
    "\n",
    "\n",
    "def color_depth(dataset):\n",
    "    return dataset.shape[-1] if (not dataset is None and dataset.ndim == 4) else 0\n",
    "\n",
    "\n",
    "# Preprocess images\n",
    "X_train = preprocess_images(X_train, roi_train)\n",
    "X_valid = preprocess_images(X_valid, roi_valid)\n",
    "X_test = preprocess_images(X_test, roi_test)\n",
    "\n",
    "# Determine input depth\n",
    "input_depth = color_depth(X_train)\n",
    "\n",
    "# TODO: Augment the data\n"
   ]
  },
  {
   "cell_type": "markdown",
   "metadata": {},
   "source": [
    "### Model Architecture"
   ]
  },
  {
   "cell_type": "code",
   "execution_count": null,
   "metadata": {
    "pycharm": {
     "is_executing": true
    }
   },
   "outputs": [],
   "source": [
    "### Define your architecture here.\n",
    "### Feel free to use as many code cells as needed.\n",
    "\n",
    "import tensorflow as tf\n",
    "from tensorflow.contrib.layers import flatten\n",
    "\n",
    "def conv2d(x, W, b, strides=1, padding='VALID'):\n",
    "    x = tf.nn.conv2d(x, W, strides=[1, strides, strides, 1], padding=padding)\n",
    "    return tf.nn.bias_add(x, b)\n",
    "\n",
    "\n",
    "def pool2d(x, k=2):\n",
    "    return tf.nn.max_pool(\n",
    "        x,\n",
    "        ksize=[1, k, k, 1],\n",
    "        strides=[1, k, k, 1],\n",
    "        padding='VALID')\n",
    "\n",
    "\n",
    "def fulcon(x, W, b):\n",
    "    return tf.add(tf.matmul(x, W), b)\n",
    "\n",
    "\n",
    "# Arguments used for tf.truncated_normal, randomly defines variables for the weights and biases for each layer\n",
    "mu = 0\n",
    "sigma = 0.1\n",
    "\n",
    "weights = {\n",
    "    'w1': tf.Variable(tf.truncated_normal([5, 5, input_depth, 6], mu, sigma)),\n",
    "    'w2': tf.Variable(tf.truncated_normal([5, 5, 6, 16], mu, sigma)),\n",
    "    'w3': tf.Variable(tf.truncated_normal([400, 120], mu, sigma)),\n",
    "    'w4': tf.Variable(tf.truncated_normal([120, 84], mu, sigma)),\n",
    "    'w5': tf.Variable(tf.truncated_normal([84, n_classes], mu, sigma))\n",
    "}\n",
    "\n",
    "biases = {\n",
    "    'b1': tf.Variable(tf.zeros(6)),\n",
    "    'b2': tf.Variable(tf.zeros(16)),\n",
    "    'b3': tf.Variable(tf.zeros(120)),\n",
    "    'b4': tf.Variable(tf.zeros(84)),\n",
    "    'b5': tf.Variable(tf.zeros(n_classes))\n",
    "}\n",
    "\n",
    "keep_prob = tf.placeholder_with_default(0.7, ())\n",
    "\n",
    "def LeNet(x):\n",
    "    # Layer 1: Convolutional. Input = 32x32xinput_depth. Output = 28x28x6.\n",
    "    conv1 = conv2d(x, weights['w1'], biases['b1'])\n",
    "    # Activation.\n",
    "    conv1 = tf.nn.tanh(conv1)\n",
    "    # Pooling. Input = 28x28x6. Output = 14x14x6.\n",
    "    conv1 = pool2d(conv1, 2)\n",
    "\n",
    "    # Layer 2: Convolutional. Output = 10x10x16.\n",
    "    conv2 = conv2d(conv1, weights['w2'], biases['b2'])\n",
    "    # Activation.\n",
    "    conv2 = tf.nn.tanh(conv2)\n",
    "    # Pooling. Input = 10x10x16. Output = 5x5x16.\n",
    "    conv2 = pool2d(conv2, 2)\n",
    "\n",
    "    # Flatten. Input = 5x5x16. Output = 400.\n",
    "    flat = tf.contrib.layers.flatten(conv2)\n",
    "    flat = tf.nn.dropout(flat, rate=1.0-keep_prob)\n",
    "\n",
    "    # Layer 3: Fully Connected. Input = 400. Output = 120.\n",
    "    fc1 = fulcon(flat, weights['w3'], biases['b3'])\n",
    "    # Activation.\n",
    "    fc1 = tf.nn.tanh(fc1)\n",
    "    # Dropout.\n",
    "    fc1 = tf.nn.dropout(fc1, rate=1.0-keep_prob)\n",
    "\n",
    "    # Layer 4: Fully Connected. Input = 120. Output = 84.\n",
    "    fc2 = fulcon(fc1, weights['w4'], biases['b4'])\n",
    "    # Activation.\n",
    "    fc2 = tf.nn.tanh(fc2)\n",
    "    # Dropout.\n",
    "    fc2 = tf.nn.dropout(fc2, rate=1.0-keep_prob)\n",
    "\n",
    "    # Layer 5: Fully Connected. Input = 84. Output = n_classes.\n",
    "    logits = fulcon(fc2, weights['w5'], biases['b5'])\n",
    "\n",
    "    return logits\n",
    "\n"
   ]
  },
  {
   "cell_type": "markdown",
   "metadata": {},
   "source": [
    "### Train, Validate and Test the Model"
   ]
  },
  {
   "cell_type": "markdown",
   "source": [
    "A validation set can be used to assess how well the model is performing. A low accuracy on the training and validation\n",
    "sets imply underfitting. A high accuracy on the training set but low accuracy on the validation set implies overfitting."
   ],
   "metadata": {
    "collapsed": false
   }
  },
  {
   "cell_type": "code",
   "execution_count": null,
   "metadata": {
    "pycharm": {
     "is_executing": true
    }
   },
   "outputs": [],
   "source": [
    "### Train your model here.\n",
    "### Calculate and report the accuracy on the training and validation set.\n",
    "### Once a final model architecture is selected, \n",
    "### the accuracy on the test set should be calculated and reported as well.\n",
    "### Feel free to use as many code cells as needed.\n",
    "\n",
    "\n",
    "x = tf.placeholder(tf.float32, (None, 32, 32, input_depth))\n",
    "y = tf.placeholder(tf.int32, (None))\n",
    "one_hot_y = tf.one_hot(y, n_classes)\n",
    "\n",
    "BETA = 0.01\n",
    "RATE = 0.002\n",
    "EPOCHS = 25\n",
    "BATCH_SIZE = 256\n",
    "\n",
    "logits = LeNet(x)\n",
    "cross_entropy = tf.nn.softmax_cross_entropy_with_logits(labels=one_hot_y, logits=logits)\n",
    "loss_operation = tf.reduce_mean(cross_entropy)\n",
    "regularizer = (tf.nn.l2_loss(weights['w5']))\n",
    "loss_operation = tf.reduce_mean(loss_operation + BETA * regularizer)\n",
    "optimizer = tf.train.AdamOptimizer(learning_rate = RATE)\n",
    "training_operation = optimizer.minimize(loss_operation)\n"
   ]
  },
  {
   "cell_type": "code",
   "execution_count": null,
   "metadata": {
    "pycharm": {
     "name": "#%%\n",
     "is_executing": true
    }
   },
   "outputs": [],
   "source": [
    "correct_prediction = tf.equal(tf.argmax(logits, 1), tf.argmax(one_hot_y, 1))\n",
    "accuracy_operation = tf.reduce_mean(tf.cast(correct_prediction, tf.float32))\n",
    "\n",
    "def evaluate(X_data, y_data):\n",
    "    num_examples = len(X_data)\n",
    "    total_accuracy = 0\n",
    "    sess = tf.get_default_session()\n",
    "    for offset in range(0, num_examples, BATCH_SIZE):\n",
    "        batch_x, batch_y = X_data[offset:offset+BATCH_SIZE], y_data[offset:offset+BATCH_SIZE]\n",
    "        accuracy = sess.run(accuracy_operation, feed_dict={x: batch_x, y: batch_y, keep_prob: 1.0})\n",
    "        total_accuracy += (accuracy * len(batch_x))\n",
    "    return total_accuracy / num_examples\n"
   ]
  },
  {
   "cell_type": "code",
   "execution_count": null,
   "metadata": {
    "pycharm": {
     "name": "#%%\n",
     "is_executing": true
    }
   },
   "outputs": [],
   "source": [
    "saver = tf.train.Saver()\n",
    "\n",
    "with tf.Session() as sess:\n",
    "    sess.run(tf.global_variables_initializer())\n",
    "    num_examples = len(X_train)\n",
    "\n",
    "    epochs = []\n",
    "    taccs = []\n",
    "    vaccs = []\n",
    "\n",
    "    print(\"Training...\")\n",
    "    print()\n",
    "    for i in range(EPOCHS):\n",
    "        X_train, y_train = skl.utils.shuffle(X_train, y_train)\n",
    "        for offset in range(0, num_examples, BATCH_SIZE):\n",
    "            end = offset + BATCH_SIZE\n",
    "            batch_x, batch_y = X_train[offset:end], y_train[offset:end]\n",
    "            sess.run(training_operation, feed_dict={x: batch_x, y: batch_y})\n",
    "\n",
    "        training_accuracy = evaluate(X_train, y_train)\n",
    "        validation_accuracy = evaluate(X_valid, y_valid)\n",
    "        print(\"EPOCH {} ...\".format(i+1))\n",
    "        print(\"Training Accuracy = {:.3f}\".format(training_accuracy))\n",
    "        print(\"Validation Accuracy = {:.3f}\".format(validation_accuracy))\n",
    "        print()\n",
    "\n",
    "        epochs.append(i+1)\n",
    "        taccs.append(training_accuracy)\n",
    "        vaccs.append(validation_accuracy)\n",
    "\n",
    "    saver.save(sess, './lenet')\n",
    "    print(\"Model saved\")\n"
   ]
  },
  {
   "cell_type": "code",
   "execution_count": null,
   "outputs": [],
   "source": [
    "if epochs:\n",
    "    fig = plt.figure()\n",
    "    plt.title('Model Accuracy')\n",
    "    plt.plot(epochs, taccs, '.-b', label='Training')\n",
    "    plt.plot(epochs, vaccs, '.-r', label='Validation')\n",
    "    plt.legend(loc='lower right')\n",
    "    fig.gca().xaxis.get_major_locator().set_params(integer=True)\n",
    "    fig.gca().set_xticks(np.arange(0, EPOCHS+1, EPOCHS//10))\n",
    "    plt.grid()\n",
    "    plt.xlabel('Epoch')\n",
    "\n",
    "\n",
    "with tf.Session() as sess:\n",
    "    saver.restore(sess, tf.train.latest_checkpoint('.'))\n",
    "\n",
    "    test_accuracy = evaluate(X_test, y_test)\n",
    "    print(\"Test Accuracy = {:.3f}\".format(test_accuracy))\n"
   ],
   "metadata": {
    "collapsed": false,
    "pycharm": {
     "name": "#%%\n",
     "is_executing": true
    }
   }
  },
  {
   "cell_type": "markdown",
   "metadata": {},
   "source": [
    "---\n",
    "\n",
    "## Step 3: Test a Model on New Images\n",
    "\n",
    "To give yourself more insight into how your model is working, download at least five pictures of German traffic signs from the web and use your model to predict the traffic sign type.\n",
    "\n",
    "You may find `signnames.csv` useful as it contains mappings from the class id (integer) to the actual sign name."
   ]
  },
  {
   "cell_type": "markdown",
   "metadata": {},
   "source": [
    "### Load and Output the Images"
   ]
  },
  {
   "cell_type": "code",
   "execution_count": null,
   "metadata": {
    "pycharm": {
     "is_executing": true
    }
   },
   "outputs": [],
   "source": [
    "### Load the images and plot them here.\n",
    "### Feel free to use as many code cells as needed.\n",
    "\n",
    "from skimage.io import imread\n",
    "from skimage.util import img_as_ubyte\n",
    "from skimage.transform import rescale\n",
    "\n",
    "ARCHIVE_URL = 'https://sid.erda.dk/public/archives/daaeac0d7ce1152aea9b61d9f1e19370/GTSRB_Final_Training_Images.zip'\n",
    "\n",
    "# Repository location of the saved training and testing data\n",
    "new_file = DATA_DIR + '/new.p'\n",
    "\n",
    "if True or not os.path.exists(new_file):\n",
    "    os.makedirs(DATA_DIR, exist_ok=True)\n",
    "\n",
    "    url = urllib.request.urlopen(ARCHIVE_URL)\n",
    "\n",
    "    new_features = []\n",
    "    new_labels = []\n",
    "    new_sizes = []\n",
    "    new_coords = []\n",
    "\n",
    "    with ZipFile(BytesIO(url.read())) as zip_file:\n",
    "        for file_path in zip_file.namelist():\n",
    "            file_path = os.path.normpath(file_path)\n",
    "            cls_dir, filename = ([None]*2+file_path.split(os.sep))[-2::]\n",
    "\n",
    "            if not (cls_dir and cls_dir.isdigit()):\n",
    "                continue\n",
    "\n",
    "            cls = int(cls_dir)\n",
    "            if not cls in classes:\n",
    "                continue\n",
    "\n",
    "            if filename.endswith('.csv'):\n",
    "                csv_df = pd.read_csv(zip_file.open(file_path), ';')\n",
    "                for row in csv_df.itertuples():\n",
    "                    new_sizes.append((row[2], row[3]))\n",
    "                    new_coords.append((row[4], row[5], row[6], row[7]))\n",
    "\n",
    "            elif filename.endswith('.ppm'):\n",
    "                img = imread(zip_file.open(file_path), as_gray=False)\n",
    "                img = img_as_ubyte(img)\n",
    "\n",
    "                # scale = 32.0 / max(img.shape)\n",
    "                # if scale < 1.0:\n",
    "                #     img = rescale(img, scale, anti_aliasing=True, preserve_range=True)\n",
    "                #\n",
    "                # if img.shape != (32, 32):\n",
    "                #     img = pad(img, (32,32))\n",
    "                #\n",
    "                # img = img.astype(np.uint8)\n",
    "\n",
    "                new_features.append(img)\n",
    "                new_labels.append(cls)\n",
    "\n",
    "                # plt.figure()\n",
    "                # plt.imshow(img)\n",
    "                # print(cls, img.shape)\n",
    "\n",
    "    if new_features:\n",
    "        new_data = {\n",
    "            'features': np.array(new_features),\n",
    "            'labels': np.array(new_labels)\n",
    "        }\n",
    "\n",
    "        if len(new_coords) and len(new_sizes):\n",
    "            new_data['coords'] = np.array(new_coords)\n",
    "            new_data['sizes'] = np.array(new_sizes)\n",
    "\n",
    "        with open(new_file, mode='wb') as f:\n",
    "            pickle.dump(new_data, f)"
   ]
  },
  {
   "cell_type": "code",
   "execution_count": null,
   "outputs": [],
   "source": [
    "with open(new_file, mode='rb') as f:\n",
    "    X_new, y_new, roi_new = load_from_pickle(f)\n",
    "\n",
    "summarize_dataset(test=(X_new, y_new, roi_new))\n"
   ],
   "metadata": {
    "collapsed": false,
    "pycharm": {
     "name": "#%%\n",
     "is_executing": true
    }
   }
  },
  {
   "cell_type": "markdown",
   "metadata": {},
   "source": [
    "### Predict the Sign Type for Each Image"
   ]
  },
  {
   "cell_type": "code",
   "execution_count": null,
   "metadata": {
    "pycharm": {
     "is_executing": true
    }
   },
   "outputs": [],
   "source": [
    "### Run the predictions here and use the model to output the prediction for each image.\n",
    "### Make sure to pre-process the images with the same pre-processing pipeline used earlier.\n",
    "### Feel free to use as many code cells as needed.\n",
    "\n",
    "# Preprocess images\n",
    "X_new = preprocess_images(X_new, roi_new)\n",
    "\n",
    "# Determine input depth\n",
    "input_depth = color_depth(X_new)\n"
   ]
  },
  {
   "cell_type": "markdown",
   "metadata": {},
   "source": [
    "### Analyze Performance"
   ]
  },
  {
   "cell_type": "code",
   "execution_count": null,
   "metadata": {
    "pycharm": {
     "is_executing": true
    }
   },
   "outputs": [],
   "source": [
    "### Calculate the accuracy for these 5 new images. \n",
    "### For example, if the model predicted 1 out of 5 signs correctly, it's 20% accurate on these new images.\n",
    "\n",
    "with tf.Session() as sess:\n",
    "    saver.restore(sess, tf.train.latest_checkpoint('.'))\n",
    "\n",
    "    new_accuracy = evaluate(X_new, y_new)\n",
    "    print(\"New Data Accuracy = {:.3f}\".format(new_accuracy))\n",
    "\n",
    "\n",
    "selection = np.random.choice(len(X_new), 5, replace=False)\n",
    "X_new = X_new[selection]\n",
    "y_new = y_new[selection]\n",
    "\n",
    "with tf.Session() as sess:\n",
    "    saver.restore(sess, tf.train.latest_checkpoint('.'))\n",
    "\n",
    "    new_accuracy = evaluate(X_new, y_new)\n",
    "    print(\"Random 5 Accuracy = {:.3f}\".format(new_accuracy))\n"
   ]
  },
  {
   "cell_type": "markdown",
   "metadata": {},
   "source": [
    "### Output Top 5 Softmax Probabilities For Each Image Found on the Web"
   ]
  },
  {
   "cell_type": "markdown",
   "metadata": {},
   "source": [
    "For each of the new images, print out the model's softmax probabilities to show the **certainty** of the model's predictions (limit the output to the top 5 probabilities for each image). [`tf.nn.top_k`](https://www.tensorflow.org/versions/r0.12/api_docs/python/nn.html#top_k) could prove helpful here. \n"
   ]
  },
  {
   "cell_type": "code",
   "execution_count": null,
   "metadata": {
    "pycharm": {
     "is_executing": true
    }
   },
   "outputs": [],
   "source": [
    "### Print out the top five softmax probabilities for the predictions on the German traffic sign images found on the web. \n",
    "### Feel free to use as many code cells as needed.\n",
    "\n",
    "topk_operation = tf.nn.top_k(tf.nn.softmax(logits), k=5)\n",
    "\n",
    "with tf.Session() as sess:\n",
    "    saver.restore(sess, tf.train.latest_checkpoint('.'))\n",
    "\n",
    "    top5_softmax = sess.run(topk_operation, feed_dict={x: X_new, y: y_new, keep_prob: 1.0})\n",
    "\n",
    "\n",
    "for i in range(len(X_new)):\n",
    "    plt.figure()\n",
    "    plt.imshow(X_new[i], cmap=\"gray\")\n",
    "\n",
    "    top5 = dict(zip(top5_softmax.indices[i], top5_softmax.values[i]))\n",
    "    print(top5)\n",
    "\n"
   ]
  },
  {
   "cell_type": "markdown",
   "metadata": {},
   "source": [
    "### Project Writeup\n",
    "\n",
    "Once you have completed the code implementation, document your results in a project writeup using this [template](https://github.com/udacity/CarND-Traffic-Sign-Classifier-Project/blob/master/writeup_template.md) as a guide. The writeup can be in a markdown or pdf file. "
   ]
  },
  {
   "cell_type": "markdown",
   "metadata": {},
   "source": [
    "> **Note**: Once you have completed all of the code implementations and successfully answered each question above, you may finalize your work by exporting the iPython Notebook as an HTML document. You can do this by using the menu above and navigating to  \\n\",\n",
    "    \"**File -> Download as -> HTML (.html)**. Include the finished document along with this notebook as your submission."
   ]
  },
  {
   "cell_type": "markdown",
   "metadata": {},
   "source": [
    "---\n",
    "\n",
    "## Step 4 (Optional): Visualize the Neural Network's State with Test Images\n",
    "\n",
    " This Section is not required to complete but acts as an additional excersise for understaning the output of a neural network's weights. While neural networks can be a great learning device they are often referred to as a black box. We can understand what the weights of a neural network look like better by plotting their feature maps. After successfully training your neural network you can see what it's feature maps look like by plotting the output of the network's weight layers in response to a test stimuli image. From these plotted feature maps, it's possible to see what characteristics of an image the network finds interesting. For a sign, maybe the inner network feature maps react with high activation to the sign's boundary outline or to the contrast in the sign's painted symbol.\n",
    "\n",
    " Provided for you below is the function code that allows you to get the visualization output of any tensorflow weight layer you want. The inputs to the function should be a stimuli image, one used during training or a new one you provided, and then the tensorflow variable name that represents the layer's state during the training process, for instance if you wanted to see what the [LeNet lab's](https://classroom.udacity.com/nanodegrees/nd013/parts/fbf77062-5703-404e-b60c-95b78b2f3f9e/modules/6df7ae49-c61c-4bb2-a23e-6527e69209ec/lessons/601ae704-1035-4287-8b11-e2c2716217ad/concepts/d4aca031-508f-4e0b-b493-e7b706120f81) feature maps looked like for it's second convolutional layer you could enter conv2 as the tf_activation variable.\n",
    "\n",
    "For an example of what feature map outputs look like, check out NVIDIA's results in their paper [End-to-End Deep Learning for Self-Driving Cars](https://devblogs.nvidia.com/parallelforall/deep-learning-self-driving-cars/) in the section Visualization of internal CNN State. NVIDIA was able to show that their network's inner weights had high activations to road boundary lines by comparing feature maps from an image with a clear path to one without. Try experimenting with a similar test to show that your trained network's weights are looking for interesting features, whether it's looking at differences in feature maps from images with or without a sign, or even what feature maps look like in a trained network vs a completely untrained one on the same sign image.\n",
    "\n",
    "<figure>\n",
    " <img src=\"visualize_cnn.png\" width=\"380\" alt=\"Combined Image\" />\n",
    " <figcaption>\n",
    " <p></p> \n",
    " <p style=\"text-align: center;\"> Your output should look something like this (above)</p> \n",
    " </figcaption>\n",
    "</figure>\n",
    " <p></p> \n"
   ]
  },
  {
   "cell_type": "code",
   "execution_count": null,
   "metadata": {
    "pycharm": {
     "is_executing": true
    }
   },
   "outputs": [],
   "source": [
    "### Visualize your network's feature maps here.\n",
    "### Feel free to use as many code cells as needed.\n",
    "\n",
    "# image_input: the test image being fed into the network to produce the feature maps\n",
    "# tf_activation: should be a tf variable name used during your training procedure that represents the calculated state of a specific weight layer\n",
    "# activation_min/max: can be used to view the activation contrast in more detail, by default matplot sets min and max to the actual min and max values of the output\n",
    "# plt_num: used to plot out multiple different weight feature map sets on the same block, just extend the plt number for each new feature map entry\n",
    "\n",
    "def outputFeatureMap(image_input, tf_activation, activation_min=-1, activation_max=-1 ,plt_num=1):\n",
    "    # Here make sure to preprocess your image_input in a way your network expects\n",
    "    # with size, normalization, ect if needed\n",
    "    # image_input =\n",
    "    # Note: x should be the same name as your network's tensorflow data placeholder variable\n",
    "    # If you get an error tf_activation is not defined it may be having trouble accessing the variable from inside a function\n",
    "    activation = tf_activation.eval(session=sess,feed_dict={x : image_input})\n",
    "    featuremaps = activation.shape[3]\n",
    "    plt.figure(plt_num, figsize=(15,15))\n",
    "    for featuremap in range(featuremaps):\n",
    "        plt.subplot(6,8, featuremap+1) # sets the number of feature maps to show on each row and column\n",
    "        plt.title('FeatureMap ' + str(featuremap)) # displays the feature map number\n",
    "        if activation_min != -1 & activation_max != -1:\n",
    "            plt.imshow(activation[0,:,:, featuremap], interpolation=\"nearest\", vmin=activation_min, vmax=activation_max, cmap=\"gray\")\n",
    "        elif activation_max != -1:\n",
    "            plt.imshow(activation[0,:,:, featuremap], interpolation=\"nearest\", vmax=activation_max, cmap=\"gray\")\n",
    "        elif activation_min !=-1:\n",
    "            plt.imshow(activation[0,:,:, featuremap], interpolation=\"nearest\", vmin=activation_min, cmap=\"gray\")\n",
    "        else:\n",
    "            plt.imshow(activation[0,:,:, featuremap], interpolation=\"nearest\", cmap=\"gray\")"
   ]
  }
 ],
 "metadata": {
  "anaconda-cloud": {},
  "kernelspec": {
   "display_name": "Python 3",
   "language": "python",
   "name": "python3"
  },
  "language_info": {
   "codemirror_mode": {
    "name": "ipython",
    "version": 3
   },
   "file_extension": ".py",
   "mimetype": "text/x-python",
   "name": "python",
   "nbconvert_exporter": "python",
   "pygments_lexer": "ipython3",
   "version": "3.7.8"
  }
 },
 "nbformat": 4,
 "nbformat_minor": 1
}